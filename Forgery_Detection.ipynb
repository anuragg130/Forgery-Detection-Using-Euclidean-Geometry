{
 "cells": [
  {
   "cell_type": "code",
   "execution_count": null,
   "metadata": {
    "id": "CTPmBhgatvHe",
    "pycharm": {
     "name": "#%%\n"
    }
   },
   "outputs": [],
   "source": []
  },
  {
   "cell_type": "code",
   "execution_count": null,
   "metadata": {
    "id": "nvxTZfxHicck",
    "pycharm": {
     "name": "#%%\n"
    }
   },
   "outputs": [],
   "source": []
  },
  {
   "cell_type": "code",
   "execution_count": 1,
   "metadata": {
    "id": "ozS5EVwwuKs1",
    "pycharm": {
     "name": "#%%\n"
    }
   },
   "outputs": [],
   "source": [
    "import numpy as np\n",
    "import matplotlib.pyplot as plt\n",
    "import pandas as pd\n",
    "import cv2\n",
    "import os\n",
    "from tqdm import tqdm\n",
    "plt.style.use('fivethirtyeight')\n"
   ]
  },
  {
   "cell_type": "code",
   "source": [
    "quantization = 16\n",
    "tsimilarity = 5 # euclid distance similarity threshhold\n",
    "tdistance = 20 # euclid distance between pixels threshold\n",
    "vector_limit = 20 # shift vector elimination limit\n",
    "block_counter = 0\n",
    "block_size = 8\n",
    "image = cv2.imread(r\"C:\\Users\\Anurag\\Desktop\\PIXEL PERFECT\\Copy-Move-Forgery-Detection-master\\forged1.png\")\n",
    "mask = image\n",
    "mask_gray = cv2.cvtColor(mask, cv2.COLOR_RGB2GRAY)\n",
    "gray = cv2.cvtColor(image, cv2.COLOR_RGB2GRAY)\n",
    "temp = []\n",
    "arr = np.array(gray)\n",
    "mask = np.array(mask_gray)\n",
    "prediction_mask = np.zeros((arr.shape[0], arr.shape[1]))\n",
    "column = arr.shape[1] - block_size\n",
    "row = arr.shape[0] - block_size\n",
    "dcts = np.empty((((column+1)*(row+1)), quantization+2))"
   ],
   "metadata": {
    "id": "aQLK3cw5cobr",
    "pycharm": {
     "name": "#%%\n"
    }
   },
   "execution_count": 2,
   "outputs": []
  },
  {
   "cell_type": "code",
   "execution_count": 3,
   "metadata": {
    "id": "sW0Kxe3RudUK",
    "colab": {
     "base_uri": "https://localhost:8080/"
    },
    "outputId": "d113ba27-25d6-4754-c843-1115714b5b9c",
    "pycharm": {
     "name": "#%%\n"
    }
   },
   "outputs": [
    {
     "name": "stderr",
     "output_type": "stream",
     "text": [
      "C:\\Users\\Anurag\\AppData\\Local\\Temp\\ipykernel_24260\\533481875.py:23: DeprecationWarning: `np.float` is a deprecated alias for the builtin `float`. To silence this warning, use `float` by itself. Doing this will not modify any behavior and is safe. If you specifically wanted the numpy scalar type, use `np.float64` here.\n",
      "Deprecated in NumPy 1.20; for more details and guidance: https://numpy.org/devdocs/release/1.20.0-notes.html#deprecations\n",
      "  temp = np.asarray(temp, dtype=np.float)\n"
     ]
    }
   ],
   "source": [
    "for i in range(0, row):\n",
    "    for j in range(0, column):\n",
    "\n",
    "        blocks = arr[i:i+block_size, j:j+block_size]\n",
    "        imf = np.float32(blocks) / 255.0  # float conversion/scale\n",
    "        dst = cv2.dct(imf)  # the dct\n",
    "        blocks = np.uint8(np.float32(dst) * 255.0 ) # convert back\n",
    "        # zigzag scan\n",
    "        solution = [[] for k in range(block_size + block_size - 1)]\n",
    "        for k in range(block_size):\n",
    "            for l in range(block_size):\n",
    "                sum = k + l\n",
    "                if (sum % 2 == 0):\n",
    "                    # add at beginning\n",
    "                    solution[sum].insert(0, blocks[k][l])\n",
    "                else:\n",
    "                    # add at end of the list\n",
    "                    solution[sum].append(blocks[k][l])\n",
    "\n",
    "        for item in range(0,(block_size*2-1)):\n",
    "            temp += solution[item]\n",
    "\n",
    "        temp = np.asarray(temp, dtype=np.float)\n",
    "        temp = np.array(temp[:16])\n",
    "        temp = np.floor(temp/quantization)\n",
    "        temp = np.append(temp, [i, j])\n",
    "\n",
    "        np.copyto(dcts[block_counter], temp)\n",
    "\n",
    "        block_counter += 1\n",
    "        temp = []"
   ]
  },
  {
   "cell_type": "code",
   "source": [
    "dcts = dcts[~np.all(dcts == 0, axis=1)]\n",
    "dcts = dcts[np.lexsort(np.rot90(dcts))]\n"
   ],
   "metadata": {
    "id": "iPtTiPjlmRuU",
    "pycharm": {
     "name": "#%%\n"
    }
   },
   "execution_count": 4,
   "outputs": []
  },
  {
   "cell_type": "code",
   "source": [
    "sim_array = []\n",
    "for i in range(0, block_counter):\n",
    "    if i <= block_counter-10:\n",
    "        for j in range(i+1, i+10):\n",
    "            pixelsim = np.linalg.norm(dcts[i][:16]-dcts[j][:16])\n",
    "            pointdis = np.linalg.norm(dcts[i][-2:]-dcts[j][-2:])\n",
    "            if pixelsim <= tsimilarity and pointdis >= tdistance:\n",
    "                sim_array.append([dcts[i][16], dcts[i][17], dcts[j][16], dcts[j][17],dcts[i][16]-dcts[j][16], dcts[i][17]-dcts[j][17]])\n",
    "    else:\n",
    "        for j in range(i+1, block_counter):\n",
    "            pixelsim = np.linalg.norm(dcts[i][:16]-dcts[j][:16])\n",
    "            pointdis = np.linalg.norm(dcts[i][-2:]-dcts[j][-2:])\n",
    "            if pixelsim <= tsimilarity and pointdis >= tdistance:\n",
    "                sim_array.append([dcts[i][16], dcts[i][17], dcts[j][16], dcts[j][17],dcts[i][16]-dcts[j][16], dcts[i][17]-dcts[j][17]])\n"
   ],
   "metadata": {
    "id": "1jAJO2Z3n_XS",
    "pycharm": {
     "name": "#%%\n"
    }
   },
   "execution_count": 5,
   "outputs": []
  },
  {
   "cell_type": "code",
   "source": [
    "sim_array = np.array(sim_array)\n",
    "delete_vec = []\n",
    "vector_counter = 0\n",
    "for i in range(0, sim_array.shape[0]):\n",
    "    for j in range(1, sim_array.shape[0]):\n",
    "        if sim_array[i][4] == sim_array[j][4] and sim_array[i][5] == sim_array[j][5]:\n",
    "            vector_counter += 1\n",
    "    if vector_counter < vector_limit:\n",
    "        delete_vec.append(sim_array[i])\n",
    "    vector_counter = 0\n",
    "\n",
    "delete_vec = np.array(delete_vec)\n",
    "delete_vec = delete_vec[~np.all(delete_vec == 0, axis=1)]\n",
    "delete_vec = delete_vec[np.lexsort(np.rot90(delete_vec))]\n",
    "\n",
    "for item in delete_vec:\n",
    "    indexes = np.where(sim_array == item)\n",
    "    unique, counts = np.unique(indexes[0], return_counts=True)\n",
    "    for i in range(0, unique.shape[0]):\n",
    "        if counts[i] == 6:\n",
    "            sim_array = np.delete(sim_array,unique[i],axis=0)"
   ],
   "metadata": {
    "id": "useqvo-UfyMg",
    "pycharm": {
     "name": "#%%\n"
    }
   },
   "execution_count": 6,
   "outputs": []
  },
  {
   "cell_type": "code",
   "source": [
    "for i in range(0, sim_array.shape[0]):\n",
    "    index1 = int(sim_array[i][0])\n",
    "    index2 = int(sim_array[i][1])\n",
    "    index3 = int(sim_array[i][2])\n",
    "    index4 = int(sim_array[i][3])\n",
    "    for j in range(0,7):\n",
    "        for k in range(0,7):\n",
    "            prediction_mask[index1+j][index2+k] = 255\n",
    "            prediction_mask[index3+j][index4+k] = 255"
   ],
   "metadata": {
    "id": "UuCKPZV2f4OU",
    "pycharm": {
     "name": "#%%\n"
    }
   },
   "execution_count": 7,
   "outputs": []
  },
  {
   "cell_type": "code",
   "source": [
    "cv2.imshow(\"Prediction Mask\", prediction_mask)\n"
   ],
   "metadata": {
    "colab": {
     "base_uri": "https://localhost:8080/",
     "height": 408
    },
    "id": "B0aWaB5Vf9vJ",
    "outputId": "56e700a3-c492-480a-e9fa-0f022b78d1f9",
    "pycharm": {
     "name": "#%%\n"
    }
   },
   "execution_count": 8,
   "outputs": []
  },
  {
   "cell_type": "code",
   "source": [
    "cv2.imshow(\"Real Mask\", mask)\n"
   ],
   "metadata": {
    "id": "W9ocQj_igCFu",
    "pycharm": {
     "name": "#%%\n"
    }
   },
   "execution_count": 9,
   "outputs": []
  },
  {
   "cell_type": "code",
   "execution_count": 10,
   "outputs": [],
   "source": [
    "cv2.imshow('Original Image', image)\n"
   ],
   "metadata": {
    "collapsed": false,
    "pycharm": {
     "name": "#%%\n"
    }
   }
  },
  {
   "cell_type": "code",
   "execution_count": 11,
   "outputs": [
    {
     "name": "stdout",
     "output_type": "stream",
     "text": [
      "Accuracy: 0.00036614389455055834\n",
      "accuracy calculated!\n"
     ]
    }
   ],
   "source": [
    "TP = 0\n",
    "FP = 0\n",
    "TN = 0\n",
    "FN = 0\n",
    "\n",
    "for i in range(0, prediction_mask.shape[0]):\n",
    "    for j in range(0, prediction_mask.shape[1]):\n",
    "        if prediction_mask[i][j] == mask[i][j]:\n",
    "            if prediction_mask[i][j] == 255:\n",
    "                TP += 1\n",
    "            else:\n",
    "                TN += 1\n",
    "        else:\n",
    "            if prediction_mask[i][j] == 255:\n",
    "                FP += 1\n",
    "            else:\n",
    "                FN += 1\n",
    "\n",
    "precision = TP/(TP+FP)\n",
    "recall = TP/(TP+FN)\n",
    "accuracy = 2*precision*recall/(precision+recall)\n",
    "\n",
    "print('Accuracy:', accuracy)\n",
    "\n",
    "print(\"accuracy calculated!\")"
   ],
   "metadata": {
    "collapsed": false,
    "pycharm": {
     "name": "#%%\n"
    }
   }
  },
  {
   "cell_type": "code",
   "execution_count": null,
   "outputs": [],
   "source": [],
   "metadata": {
    "collapsed": false,
    "pycharm": {
     "name": "#%%\n"
    }
   }
  }
 ],
 "metadata": {
  "colab": {
   "provenance": []
  },
  "kernelspec": {
   "display_name": "Python 3",
   "name": "python3"
  },
  "language_info": {
   "name": "python"
  },
  "accelerator": "GPU",
  "gpuClass": "standard"
 },
 "nbformat": 4,
 "nbformat_minor": 0
}